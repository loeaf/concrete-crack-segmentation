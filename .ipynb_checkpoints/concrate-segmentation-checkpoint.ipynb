{
 "cells": [
  {
   "cell_type": "markdown",
   "metadata": {
    "id": "7mGmQbAO5pQb"
   },
   "source": [
    "### Install YOLOv7"
   ]
  },
  {
   "cell_type": "code",
   "execution_count": 1,
   "metadata": {
    "colab": {
     "base_uri": "https://localhost:8080/"
    },
    "id": "5hW17BAq2dFV",
    "outputId": "3edc4609-933d-4ba3-91ba-0ce1a1403c74"
   },
   "outputs": [
    {
     "name": "stdout",
     "output_type": "stream",
     "text": [
      "/Users/doheyonkim/Depot/concrete-crack-detection\n"
     ]
    }
   ],
   "source": [
    "import os\n",
    "HOME = os.getcwd()\n",
    "print(HOME)"
   ]
  },
  {
   "cell_type": "code",
   "execution_count": 2,
   "metadata": {},
   "outputs": [
    {
     "name": "stdout",
     "output_type": "stream",
     "text": [
      "Requirement already satisfied: pip in /Users/doheyonkim/miniconda3/lib/python3.11/site-packages (23.2.1)\n",
      "Requirement already satisfied: matplotlib>=3.2.2 in /Users/doheyonkim/miniconda3/lib/python3.11/site-packages (from -r requirements.txt (line 5)) (3.7.2)\n",
      "Requirement already satisfied: numpy>=1.18.5 in /Users/doheyonkim/miniconda3/lib/python3.11/site-packages (from -r requirements.txt (line 6)) (1.25.2)\n",
      "Requirement already satisfied: opencv-python>=4.1.1 in /Users/doheyonkim/miniconda3/lib/python3.11/site-packages (from -r requirements.txt (line 7)) (4.8.0.74)\n",
      "Requirement already satisfied: Pillow>=7.1.2 in /Users/doheyonkim/miniconda3/lib/python3.11/site-packages (from -r requirements.txt (line 8)) (8.4.0)\n",
      "Requirement already satisfied: PyYAML>=5.3.1 in /Users/doheyonkim/miniconda3/lib/python3.11/site-packages (from -r requirements.txt (line 9)) (6.0)\n",
      "Requirement already satisfied: requests>=2.23.0 in /Users/doheyonkim/miniconda3/lib/python3.11/site-packages (from -r requirements.txt (line 10)) (2.29.0)\n",
      "Requirement already satisfied: scipy>=1.4.1 in /Users/doheyonkim/miniconda3/lib/python3.11/site-packages (from -r requirements.txt (line 11)) (1.11.1)\n",
      "Requirement already satisfied: torch>=1.7.0 in /Users/doheyonkim/miniconda3/lib/python3.11/site-packages (from -r requirements.txt (line 12)) (2.0.1)\n",
      "Requirement already satisfied: torchvision>=0.8.1 in /Users/doheyonkim/miniconda3/lib/python3.11/site-packages (from -r requirements.txt (line 13)) (0.15.2)\n",
      "Requirement already satisfied: tqdm>=4.64.0 in /Users/doheyonkim/miniconda3/lib/python3.11/site-packages (from -r requirements.txt (line 14)) (4.65.0)\n",
      "Requirement already satisfied: protobuf<=3.20.1 in /Users/doheyonkim/miniconda3/lib/python3.11/site-packages (from -r requirements.txt (line 15)) (3.20.1)\n",
      "Requirement already satisfied: tensorboard>=2.4.1 in /Users/doheyonkim/miniconda3/lib/python3.11/site-packages (from -r requirements.txt (line 18)) (2.13.0)\n",
      "Requirement already satisfied: pandas>=1.1.4 in /Users/doheyonkim/miniconda3/lib/python3.11/site-packages (from -r requirements.txt (line 23)) (2.0.3)\n",
      "Requirement already satisfied: seaborn>=0.11.0 in /Users/doheyonkim/miniconda3/lib/python3.11/site-packages (from -r requirements.txt (line 24)) (0.12.2)\n",
      "Requirement already satisfied: ipython in /Users/doheyonkim/miniconda3/lib/python3.11/site-packages (from -r requirements.txt (line 38)) (8.12.0)\n",
      "Requirement already satisfied: psutil in /Users/doheyonkim/miniconda3/lib/python3.11/site-packages (from -r requirements.txt (line 39)) (5.9.0)\n",
      "Requirement already satisfied: thop>=0.1.1 in /Users/doheyonkim/miniconda3/lib/python3.11/site-packages (from -r requirements.txt (line 40)) (0.1.1.post2209072238)\n",
      "Requirement already satisfied: contourpy>=1.0.1 in /Users/doheyonkim/miniconda3/lib/python3.11/site-packages (from matplotlib>=3.2.2->-r requirements.txt (line 5)) (1.1.0)\n",
      "Requirement already satisfied: cycler>=0.10 in /Users/doheyonkim/miniconda3/lib/python3.11/site-packages (from matplotlib>=3.2.2->-r requirements.txt (line 5)) (0.10.0)\n",
      "Requirement already satisfied: fonttools>=4.22.0 in /Users/doheyonkim/miniconda3/lib/python3.11/site-packages (from matplotlib>=3.2.2->-r requirements.txt (line 5)) (4.42.0)\n",
      "Requirement already satisfied: kiwisolver>=1.0.1 in /Users/doheyonkim/miniconda3/lib/python3.11/site-packages (from matplotlib>=3.2.2->-r requirements.txt (line 5)) (1.4.4)\n",
      "Requirement already satisfied: packaging>=20.0 in /Users/doheyonkim/miniconda3/lib/python3.11/site-packages (from matplotlib>=3.2.2->-r requirements.txt (line 5)) (23.0)\n",
      "Requirement already satisfied: pyparsing<3.1,>=2.3.1 in /Users/doheyonkim/miniconda3/lib/python3.11/site-packages (from matplotlib>=3.2.2->-r requirements.txt (line 5)) (2.4.7)\n",
      "Requirement already satisfied: python-dateutil>=2.7 in /Users/doheyonkim/miniconda3/lib/python3.11/site-packages (from matplotlib>=3.2.2->-r requirements.txt (line 5)) (2.8.2)\n",
      "Requirement already satisfied: charset-normalizer<4,>=2 in /Users/doheyonkim/miniconda3/lib/python3.11/site-packages (from requests>=2.23.0->-r requirements.txt (line 10)) (2.0.4)\n",
      "Requirement already satisfied: idna<4,>=2.5 in /Users/doheyonkim/miniconda3/lib/python3.11/site-packages (from requests>=2.23.0->-r requirements.txt (line 10)) (2.10)\n",
      "Requirement already satisfied: urllib3<1.27,>=1.21.1 in /Users/doheyonkim/miniconda3/lib/python3.11/site-packages (from requests>=2.23.0->-r requirements.txt (line 10)) (1.26.16)\n",
      "Requirement already satisfied: certifi>=2017.4.17 in /Users/doheyonkim/miniconda3/lib/python3.11/site-packages (from requests>=2.23.0->-r requirements.txt (line 10)) (2022.12.7)\n",
      "Requirement already satisfied: filelock in /Users/doheyonkim/miniconda3/lib/python3.11/site-packages (from torch>=1.7.0->-r requirements.txt (line 12)) (3.12.2)\n",
      "Requirement already satisfied: typing-extensions in /Users/doheyonkim/miniconda3/lib/python3.11/site-packages (from torch>=1.7.0->-r requirements.txt (line 12)) (4.7.1)\n",
      "Requirement already satisfied: sympy in /Users/doheyonkim/miniconda3/lib/python3.11/site-packages (from torch>=1.7.0->-r requirements.txt (line 12)) (1.12)\n",
      "Requirement already satisfied: networkx in /Users/doheyonkim/miniconda3/lib/python3.11/site-packages (from torch>=1.7.0->-r requirements.txt (line 12)) (3.1)\n",
      "Requirement already satisfied: jinja2 in /Users/doheyonkim/miniconda3/lib/python3.11/site-packages (from torch>=1.7.0->-r requirements.txt (line 12)) (3.1.2)\n",
      "Requirement already satisfied: absl-py>=0.4 in /Users/doheyonkim/miniconda3/lib/python3.11/site-packages (from tensorboard>=2.4.1->-r requirements.txt (line 18)) (1.4.0)\n",
      "Requirement already satisfied: grpcio>=1.48.2 in /Users/doheyonkim/miniconda3/lib/python3.11/site-packages (from tensorboard>=2.4.1->-r requirements.txt (line 18)) (1.56.2)\n",
      "Requirement already satisfied: google-auth<3,>=1.6.3 in /Users/doheyonkim/miniconda3/lib/python3.11/site-packages (from tensorboard>=2.4.1->-r requirements.txt (line 18)) (2.22.0)\n",
      "Requirement already satisfied: google-auth-oauthlib<1.1,>=0.5 in /Users/doheyonkim/miniconda3/lib/python3.11/site-packages (from tensorboard>=2.4.1->-r requirements.txt (line 18)) (1.0.0)\n",
      "Requirement already satisfied: markdown>=2.6.8 in /Users/doheyonkim/miniconda3/lib/python3.11/site-packages (from tensorboard>=2.4.1->-r requirements.txt (line 18)) (3.4.4)\n",
      "Requirement already satisfied: setuptools>=41.0.0 in /Users/doheyonkim/miniconda3/lib/python3.11/site-packages (from tensorboard>=2.4.1->-r requirements.txt (line 18)) (67.8.0)\n",
      "Requirement already satisfied: tensorboard-data-server<0.8.0,>=0.7.0 in /Users/doheyonkim/miniconda3/lib/python3.11/site-packages (from tensorboard>=2.4.1->-r requirements.txt (line 18)) (0.7.1)\n",
      "Requirement already satisfied: werkzeug>=1.0.1 in /Users/doheyonkim/miniconda3/lib/python3.11/site-packages (from tensorboard>=2.4.1->-r requirements.txt (line 18)) (2.3.6)\n",
      "Requirement already satisfied: wheel>=0.26 in /Users/doheyonkim/miniconda3/lib/python3.11/site-packages (from tensorboard>=2.4.1->-r requirements.txt (line 18)) (0.38.4)\n",
      "Requirement already satisfied: pytz>=2020.1 in /Users/doheyonkim/miniconda3/lib/python3.11/site-packages (from pandas>=1.1.4->-r requirements.txt (line 23)) (2022.7)\n",
      "Requirement already satisfied: tzdata>=2022.1 in /Users/doheyonkim/miniconda3/lib/python3.11/site-packages (from pandas>=1.1.4->-r requirements.txt (line 23)) (2023.3)\n",
      "Requirement already satisfied: backcall in /Users/doheyonkim/miniconda3/lib/python3.11/site-packages (from ipython->-r requirements.txt (line 38)) (0.2.0)\n",
      "Requirement already satisfied: decorator in /Users/doheyonkim/miniconda3/lib/python3.11/site-packages (from ipython->-r requirements.txt (line 38)) (5.1.1)\n",
      "Requirement already satisfied: jedi>=0.16 in /Users/doheyonkim/miniconda3/lib/python3.11/site-packages (from ipython->-r requirements.txt (line 38)) (0.18.1)\n",
      "Requirement already satisfied: matplotlib-inline in /Users/doheyonkim/miniconda3/lib/python3.11/site-packages (from ipython->-r requirements.txt (line 38)) (0.1.6)\n",
      "Requirement already satisfied: pickleshare in /Users/doheyonkim/miniconda3/lib/python3.11/site-packages (from ipython->-r requirements.txt (line 38)) (0.7.5)\n",
      "Requirement already satisfied: prompt-toolkit!=3.0.37,<3.1.0,>=3.0.30 in /Users/doheyonkim/miniconda3/lib/python3.11/site-packages (from ipython->-r requirements.txt (line 38)) (3.0.36)\n",
      "Requirement already satisfied: pygments>=2.4.0 in /Users/doheyonkim/miniconda3/lib/python3.11/site-packages (from ipython->-r requirements.txt (line 38)) (2.15.1)\n",
      "Requirement already satisfied: stack-data in /Users/doheyonkim/miniconda3/lib/python3.11/site-packages (from ipython->-r requirements.txt (line 38)) (0.2.0)\n",
      "Requirement already satisfied: traitlets>=5 in /Users/doheyonkim/miniconda3/lib/python3.11/site-packages (from ipython->-r requirements.txt (line 38)) (5.7.1)\n",
      "Requirement already satisfied: pexpect>4.3 in /Users/doheyonkim/miniconda3/lib/python3.11/site-packages (from ipython->-r requirements.txt (line 38)) (4.8.0)\n",
      "Requirement already satisfied: appnope in /Users/doheyonkim/miniconda3/lib/python3.11/site-packages (from ipython->-r requirements.txt (line 38)) (0.1.2)\n",
      "Requirement already satisfied: six in /Users/doheyonkim/miniconda3/lib/python3.11/site-packages (from cycler>=0.10->matplotlib>=3.2.2->-r requirements.txt (line 5)) (1.16.0)\n"
     ]
    },
    {
     "name": "stdout",
     "output_type": "stream",
     "text": [
      "Requirement already satisfied: cachetools<6.0,>=2.0.0 in /Users/doheyonkim/miniconda3/lib/python3.11/site-packages (from google-auth<3,>=1.6.3->tensorboard>=2.4.1->-r requirements.txt (line 18)) (5.3.1)\n",
      "Requirement already satisfied: pyasn1-modules>=0.2.1 in /Users/doheyonkim/miniconda3/lib/python3.11/site-packages (from google-auth<3,>=1.6.3->tensorboard>=2.4.1->-r requirements.txt (line 18)) (0.3.0)\n",
      "Requirement already satisfied: rsa<5,>=3.1.4 in /Users/doheyonkim/miniconda3/lib/python3.11/site-packages (from google-auth<3,>=1.6.3->tensorboard>=2.4.1->-r requirements.txt (line 18)) (4.9)\n",
      "Requirement already satisfied: requests-oauthlib>=0.7.0 in /Users/doheyonkim/miniconda3/lib/python3.11/site-packages (from google-auth-oauthlib<1.1,>=0.5->tensorboard>=2.4.1->-r requirements.txt (line 18)) (1.3.1)\n",
      "Requirement already satisfied: parso<0.9.0,>=0.8.0 in /Users/doheyonkim/miniconda3/lib/python3.11/site-packages (from jedi>=0.16->ipython->-r requirements.txt (line 38)) (0.8.3)\n",
      "Requirement already satisfied: ptyprocess>=0.5 in /Users/doheyonkim/miniconda3/lib/python3.11/site-packages (from pexpect>4.3->ipython->-r requirements.txt (line 38)) (0.7.0)\n",
      "Requirement already satisfied: wcwidth in /Users/doheyonkim/miniconda3/lib/python3.11/site-packages (from prompt-toolkit!=3.0.37,<3.1.0,>=3.0.30->ipython->-r requirements.txt (line 38)) (0.2.5)\n",
      "Requirement already satisfied: MarkupSafe>=2.1.1 in /Users/doheyonkim/miniconda3/lib/python3.11/site-packages (from werkzeug>=1.0.1->tensorboard>=2.4.1->-r requirements.txt (line 18)) (2.1.1)\n",
      "Requirement already satisfied: executing in /Users/doheyonkim/miniconda3/lib/python3.11/site-packages (from stack-data->ipython->-r requirements.txt (line 38)) (0.8.3)\n",
      "Requirement already satisfied: asttokens in /Users/doheyonkim/miniconda3/lib/python3.11/site-packages (from stack-data->ipython->-r requirements.txt (line 38)) (2.0.5)\n",
      "Requirement already satisfied: pure-eval in /Users/doheyonkim/miniconda3/lib/python3.11/site-packages (from stack-data->ipython->-r requirements.txt (line 38)) (0.2.2)\n",
      "Requirement already satisfied: mpmath>=0.19 in /Users/doheyonkim/miniconda3/lib/python3.11/site-packages (from sympy->torch>=1.7.0->-r requirements.txt (line 12)) (1.3.0)\n",
      "Requirement already satisfied: pyasn1<0.6.0,>=0.4.6 in /Users/doheyonkim/miniconda3/lib/python3.11/site-packages (from pyasn1-modules>=0.2.1->google-auth<3,>=1.6.3->tensorboard>=2.4.1->-r requirements.txt (line 18)) (0.5.0)\n",
      "Requirement already satisfied: oauthlib>=3.0.0 in /Users/doheyonkim/miniconda3/lib/python3.11/site-packages (from requests-oauthlib>=0.7.0->google-auth-oauthlib<1.1,>=0.5->tensorboard>=2.4.1->-r requirements.txt (line 18)) (3.2.2)\n"
     ]
    }
   ],
   "source": [
    "!pip install --upgrade pip\n",
    "!pip install -r requirements.txt"
   ]
  },
  {
   "cell_type": "code",
   "execution_count": 3,
   "metadata": {
    "colab": {
     "base_uri": "https://localhost:8080/"
    },
    "id": "xAGladN84NiR",
    "outputId": "ea20c428-5f8a-4b25-8494-1edb573ed0b1"
   },
   "outputs": [
    {
     "name": "stdout",
     "output_type": "stream",
     "text": [
      "/Users/doheyonkim/Depot/concrete-crack-detection/yolov7-seg.pt\n"
     ]
    }
   ],
   "source": [
    "WEIGHTS_PATH = f\"{HOME}/yolov7-seg.pt\"\n",
    "print(WEIGHTS_PATH)"
   ]
  },
  {
   "cell_type": "code",
   "execution_count": 4,
   "metadata": {
    "colab": {
     "base_uri": "https://localhost:8080/"
    },
    "id": "Dil578gk2Oy9",
    "outputId": "5e1141e0-6a83-4314-d6d9-65e4307780bc"
   },
   "outputs": [],
   "source": [
    "# download example image to yolov7/seg directory\n",
    "IMAGE_PATH = f\"{HOME}/dog.jpeg\""
   ]
  },
  {
   "cell_type": "markdown",
   "metadata": {
    "id": "I37Gfe2c6x-5"
   },
   "source": [
    "We can evaluate the performance of our custom training using the provided evalution script."
   ]
  },
  {
   "cell_type": "code",
   "execution_count": 11,
   "metadata": {
    "colab": {
     "base_uri": "https://localhost:8080/"
    },
    "id": "VBbkFCRX8Wew",
    "outputId": "08dacf1d-1546-464c-d7ce-624a86255473"
   },
   "outputs": [
    {
     "name": "stdout",
     "output_type": "stream",
     "text": [
      "\u001b[34m\u001b[1msegment/predict: \u001b[0mweights=['/Users/doheyonkim/Depot/concrete-crack-detection/best.pt'], source=/Users/doheyonkim/Depot/concrete-crack-detection/crack-2/test/, data=data/coco128.yaml, imgsz=[640, 640], conf_thres=0.25, iou_thres=0.45, max_det=1000, device=, view_img=False, save_txt=False, save_conf=False, save_crop=False, nosave=False, classes=None, agnostic_nms=False, augment=False, visualize=False, update=False, project=runs/predict-seg, name=coco, exist_ok=False, line_thickness=3, hide_labels=False, hide_conf=False, half=False, dnn=False\n",
      "YOLOv5 🚀 2023-8-6 Python-3.11.4 torch-2.0.1 CPU\n",
      "\n",
      "Fusing layers... \n",
      "Model summary: 325 layers, 37842476 parameters, 0 gradients, 141.9 GFLOPs\n",
      "image 1/2 /Users/doheyonkim/Depot/concrete-crack-detection/crack-2/test/Cracked-Concrete-Foundation.jpg: 384x640 1 crack, 206.6ms\n",
      "image 2/2 /Users/doheyonkim/Depot/concrete-crack-detection/crack-2/test/다운로드 (1).jpeg: 384x640 3 cracks, 186.2ms\n",
      "Speed: 0.4ms pre-process, 196.4ms inference, 0.5ms NMS per image at shape (1, 3, 640, 640)\n",
      "Results saved to \u001b[1mruns/predict-seg/coco5\u001b[0m\n"
     ]
    }
   ],
   "source": [
    "IMAGE_PATH = f\"{HOME}/crack-2/test/\"\n",
    "!python segment/predict.py \\\n",
    "--weights {HOME}/best.pt \\\n",
    "--conf 0.25 \\\n",
    "--name coco \\\n",
    "--source $IMAGE_PATH"
   ]
  },
  {
   "cell_type": "markdown",
   "metadata": {
    "id": "U0h4etYv62_V"
   },
   "source": [
    "No we can display results some of the results"
   ]
  }
 ],
 "metadata": {
  "accelerator": "GPU",
  "colab": {
   "provenance": []
  },
  "gpuClass": "standard",
  "kernelspec": {
   "display_name": "Python 3.9 (pytorch)",
   "language": "python",
   "name": "pytorch"
  },
  "language_info": {
   "codemirror_mode": {
    "name": "ipython",
    "version": 3
   },
   "file_extension": ".py",
   "mimetype": "text/x-python",
   "name": "python",
   "nbconvert_exporter": "python",
   "pygments_lexer": "ipython3",
   "version": "3.9.16"
  }
 },
 "nbformat": 4,
 "nbformat_minor": 4
}
